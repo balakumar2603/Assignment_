{
 "cells": [
  {
   "cell_type": "code",
   "execution_count": 1,
   "metadata": {},
   "outputs": [],
   "source": [
    "import pickle "
   ]
  },
  {
   "cell_type": "code",
   "execution_count": 2,
   "metadata": {},
   "outputs": [
    {
     "name": "stdout",
     "output_type": "stream",
     "text": [
      "Age: 30\n",
      "Bmi: 40.00\n",
      "Children: 2\n",
      "Sex: 1\n",
      "Smoker: 1\n"
     ]
    },
    {
     "data": {
      "text/plain": [
       "array([41636.4605645])"
      ]
     },
     "execution_count": 2,
     "metadata": {},
     "output_type": "execute_result"
    }
   ],
   "source": [
    "loaded_model=pickle.load(open(\"finalized_random_forest.sav\",'rb'))\n",
    "age=int(input(\"Age: \"))\n",
    "bmi=float(input(\"Bmi: \"))\n",
    "children=int(input(\"Children: \"))\n",
    "sex=int(input(\"Sex: \"))\n",
    "smoker=int(input(\"Smoker: \"))\n",
    "result=loaded_model.predict([[age,bmi,children,sex,smoker]])\n",
    "result"
   ]
  },
  {
   "cell_type": "code",
   "execution_count": null,
   "metadata": {},
   "outputs": [],
   "source": []
  }
 ],
 "metadata": {
  "kernelspec": {
   "display_name": "Python 3",
   "language": "python",
   "name": "python3"
  },
  "language_info": {
   "codemirror_mode": {
    "name": "ipython",
    "version": 3
   },
   "file_extension": ".py",
   "mimetype": "text/x-python",
   "name": "python",
   "nbconvert_exporter": "python",
   "pygments_lexer": "ipython3",
   "version": "3.7.4"
  }
 },
 "nbformat": 4,
 "nbformat_minor": 2
}
